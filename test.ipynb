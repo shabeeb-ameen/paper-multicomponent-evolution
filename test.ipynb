{
 "cells": [
  {
   "cell_type": "code",
   "execution_count": 1,
   "metadata": {},
   "outputs": [],
   "source": [
    "import multicomponent_evolution as mce\n",
    "from scipy import spatial, cluster\n",
    "import numpy as np"
   ]
  },
  {
   "cell_type": "code",
   "execution_count": 22,
   "metadata": {},
   "outputs": [
    {
     "name": "stdout",
     "output_type": "stream",
     "text": [
      "[[0.        5.0661078]\n",
      " [5.0661078 0.       ]]\n"
     ]
    }
   ],
   "source": [
    "def find_chi(n_comps = 3):\n",
    "    n_phases = 0\n",
    "    while n_phases < n_comps:\n",
    "        chi = mce.random_interaction_matrix(num_comp = n_comps)\n",
    "        phis_initial = mce.get_uniform_random_composition(num_phases = 3*n_comps, num_comps = n_comps)\n",
    "        phis_final = mce.evolve_dynamics(chis = chi, phis_init = phis_initial)\n",
    "        n_phases = mce.count_phases(phis_final)\n",
    "    return chi\n",
    "np.savetxt(\"chi.csv\",find_chi(n_comps = 2),delimiter=\",\")\n",
    "c = np.loadtxt(\"chi.csv\",delimiter=\",\")\n",
    "print(c)"
   ]
  },
  {
   "cell_type": "code",
   "execution_count": 20,
   "metadata": {},
   "outputs": [
    {
     "name": "stdout",
     "output_type": "stream",
     "text": [
      "Number of Phases:  2\n",
      "[[0.51047359 0.06375321]\n",
      " [0.06376771 0.51044631]\n",
      " [0.06376771 0.51044631]\n",
      " [0.06376771 0.51044631]\n",
      " [0.06376771 0.51044631]\n",
      " [0.06376771 0.51044631]]\n"
     ]
    }
   ],
   "source": [
    "n_components = 2\n",
    "n_phases_guess = 6\n",
    "chi = np.loadtxt('chi.csv',delimiter=\",\")\n",
    "phis_initial = mce.get_uniform_random_composition(num_phases = n_phases_guess, num_comps = n_components)\n",
    "\n",
    "phis_final = mce.evolve_dynamics(chis = chi, phis_init = phis_initial)\n",
    "print(\"Number of Phases: \", mce.count_phases(phis_final))\n",
    "print(phis_final)"
   ]
  },
  {
   "cell_type": "code",
   "execution_count": 15,
   "metadata": {},
   "outputs": [
    {
     "name": "stdout",
     "output_type": "stream",
     "text": [
      "Number of Phases:  2\n",
      "[[0.39441307 0.10025438]\n",
      " [0.10010673 0.39464814]\n",
      " [0.39441307 0.10025438]\n",
      " [0.10010673 0.39464814]\n",
      " [0.39441306 0.10025438]\n",
      " [0.39441307 0.10025438]]\n"
     ]
    }
   ],
   "source": [
    "n_components = 2\n",
    "n_phases_guess = 6\n",
    "chi = np.loadtxt('chi.csv',delimiter=\",\")\n",
    "phis_initial = mce.get_uniform_random_composition(num_phases = n_phases_guess, num_comps = n_components)\n",
    "\n",
    "phis_final = mce.evolve_dynamics(chis = chi, phis_init = phis_initial)\n",
    "print(\"Number of Phases: \", mce.count_phases(phis_final))\n",
    "print(phis_final)\n"
   ]
  },
  {
   "cell_type": "code",
   "execution_count": 6,
   "metadata": {},
   "outputs": [
    {
     "ename": "FileNotFoundError",
     "evalue": "data/chi.csv not found.",
     "output_type": "error",
     "traceback": [
      "\u001b[0;31m---------------------------------------------------------------------------\u001b[0m",
      "\u001b[0;31mFileNotFoundError\u001b[0m                         Traceback (most recent call last)",
      "Cell \u001b[0;32mIn[6], line 3\u001b[0m\n\u001b[1;32m      1\u001b[0m n_components \u001b[38;5;241m=\u001b[39m \u001b[38;5;241m3\u001b[39m\n\u001b[1;32m      2\u001b[0m n_phases_guess \u001b[38;5;241m=\u001b[39m \u001b[38;5;241m4\u001b[39m\n\u001b[0;32m----> 3\u001b[0m chi \u001b[38;5;241m=\u001b[39m \u001b[43mnp\u001b[49m\u001b[38;5;241;43m.\u001b[39;49m\u001b[43mloadtxt\u001b[49m\u001b[43m(\u001b[49m\u001b[38;5;124;43m'\u001b[39;49m\u001b[38;5;124;43mdata/chi.csv\u001b[39;49m\u001b[38;5;124;43m'\u001b[39;49m\u001b[43m,\u001b[49m\u001b[43mdelimiter\u001b[49m\u001b[38;5;241;43m=\u001b[39;49m\u001b[38;5;124;43m\"\u001b[39;49m\u001b[38;5;124;43m,\u001b[39;49m\u001b[38;5;124;43m\"\u001b[39;49m\u001b[43m)\u001b[49m\n\u001b[1;32m      4\u001b[0m phis_initial \u001b[38;5;241m=\u001b[39m mce\u001b[38;5;241m.\u001b[39mget_uniform_random_composition(num_phases \u001b[38;5;241m=\u001b[39m n_phases_guess, num_comps \u001b[38;5;241m=\u001b[39m n_components)\n\u001b[1;32m      6\u001b[0m phis_final \u001b[38;5;241m=\u001b[39m mce\u001b[38;5;241m.\u001b[39mevolve_dynamics(chis \u001b[38;5;241m=\u001b[39m chi, phis_init \u001b[38;5;241m=\u001b[39m phis_initial)\n",
      "File \u001b[0;32m~/.asdf/installs/python/3.12.4/lib/python3.12/site-packages/numpy/lib/_npyio_impl.py:1381\u001b[0m, in \u001b[0;36mloadtxt\u001b[0;34m(fname, dtype, comments, delimiter, converters, skiprows, usecols, unpack, ndmin, encoding, max_rows, quotechar, like)\u001b[0m\n\u001b[1;32m   1378\u001b[0m \u001b[38;5;28;01mif\u001b[39;00m \u001b[38;5;28misinstance\u001b[39m(delimiter, \u001b[38;5;28mbytes\u001b[39m):\n\u001b[1;32m   1379\u001b[0m     delimiter \u001b[38;5;241m=\u001b[39m delimiter\u001b[38;5;241m.\u001b[39mdecode(\u001b[38;5;124m'\u001b[39m\u001b[38;5;124mlatin1\u001b[39m\u001b[38;5;124m'\u001b[39m)\n\u001b[0;32m-> 1381\u001b[0m arr \u001b[38;5;241m=\u001b[39m \u001b[43m_read\u001b[49m\u001b[43m(\u001b[49m\u001b[43mfname\u001b[49m\u001b[43m,\u001b[49m\u001b[43m \u001b[49m\u001b[43mdtype\u001b[49m\u001b[38;5;241;43m=\u001b[39;49m\u001b[43mdtype\u001b[49m\u001b[43m,\u001b[49m\u001b[43m \u001b[49m\u001b[43mcomment\u001b[49m\u001b[38;5;241;43m=\u001b[39;49m\u001b[43mcomment\u001b[49m\u001b[43m,\u001b[49m\u001b[43m \u001b[49m\u001b[43mdelimiter\u001b[49m\u001b[38;5;241;43m=\u001b[39;49m\u001b[43mdelimiter\u001b[49m\u001b[43m,\u001b[49m\n\u001b[1;32m   1382\u001b[0m \u001b[43m            \u001b[49m\u001b[43mconverters\u001b[49m\u001b[38;5;241;43m=\u001b[39;49m\u001b[43mconverters\u001b[49m\u001b[43m,\u001b[49m\u001b[43m \u001b[49m\u001b[43mskiplines\u001b[49m\u001b[38;5;241;43m=\u001b[39;49m\u001b[43mskiprows\u001b[49m\u001b[43m,\u001b[49m\u001b[43m \u001b[49m\u001b[43musecols\u001b[49m\u001b[38;5;241;43m=\u001b[39;49m\u001b[43musecols\u001b[49m\u001b[43m,\u001b[49m\n\u001b[1;32m   1383\u001b[0m \u001b[43m            \u001b[49m\u001b[43munpack\u001b[49m\u001b[38;5;241;43m=\u001b[39;49m\u001b[43munpack\u001b[49m\u001b[43m,\u001b[49m\u001b[43m \u001b[49m\u001b[43mndmin\u001b[49m\u001b[38;5;241;43m=\u001b[39;49m\u001b[43mndmin\u001b[49m\u001b[43m,\u001b[49m\u001b[43m \u001b[49m\u001b[43mencoding\u001b[49m\u001b[38;5;241;43m=\u001b[39;49m\u001b[43mencoding\u001b[49m\u001b[43m,\u001b[49m\n\u001b[1;32m   1384\u001b[0m \u001b[43m            \u001b[49m\u001b[43mmax_rows\u001b[49m\u001b[38;5;241;43m=\u001b[39;49m\u001b[43mmax_rows\u001b[49m\u001b[43m,\u001b[49m\u001b[43m \u001b[49m\u001b[43mquote\u001b[49m\u001b[38;5;241;43m=\u001b[39;49m\u001b[43mquotechar\u001b[49m\u001b[43m)\u001b[49m\n\u001b[1;32m   1386\u001b[0m \u001b[38;5;28;01mreturn\u001b[39;00m arr\n",
      "File \u001b[0;32m~/.asdf/installs/python/3.12.4/lib/python3.12/site-packages/numpy/lib/_npyio_impl.py:997\u001b[0m, in \u001b[0;36m_read\u001b[0;34m(fname, delimiter, comment, quote, imaginary_unit, usecols, skiplines, max_rows, converters, ndmin, unpack, dtype, encoding)\u001b[0m\n\u001b[1;32m    995\u001b[0m     fname \u001b[38;5;241m=\u001b[39m os\u001b[38;5;241m.\u001b[39mfspath(fname)\n\u001b[1;32m    996\u001b[0m \u001b[38;5;28;01mif\u001b[39;00m \u001b[38;5;28misinstance\u001b[39m(fname, \u001b[38;5;28mstr\u001b[39m):\n\u001b[0;32m--> 997\u001b[0m     fh \u001b[38;5;241m=\u001b[39m \u001b[43mnp\u001b[49m\u001b[38;5;241;43m.\u001b[39;49m\u001b[43mlib\u001b[49m\u001b[38;5;241;43m.\u001b[39;49m\u001b[43m_datasource\u001b[49m\u001b[38;5;241;43m.\u001b[39;49m\u001b[43mopen\u001b[49m\u001b[43m(\u001b[49m\u001b[43mfname\u001b[49m\u001b[43m,\u001b[49m\u001b[43m \u001b[49m\u001b[38;5;124;43m'\u001b[39;49m\u001b[38;5;124;43mrt\u001b[39;49m\u001b[38;5;124;43m'\u001b[39;49m\u001b[43m,\u001b[49m\u001b[43m \u001b[49m\u001b[43mencoding\u001b[49m\u001b[38;5;241;43m=\u001b[39;49m\u001b[43mencoding\u001b[49m\u001b[43m)\u001b[49m\n\u001b[1;32m    998\u001b[0m     \u001b[38;5;28;01mif\u001b[39;00m encoding \u001b[38;5;129;01mis\u001b[39;00m \u001b[38;5;28;01mNone\u001b[39;00m:\n\u001b[1;32m    999\u001b[0m         encoding \u001b[38;5;241m=\u001b[39m \u001b[38;5;28mgetattr\u001b[39m(fh, \u001b[38;5;124m'\u001b[39m\u001b[38;5;124mencoding\u001b[39m\u001b[38;5;124m'\u001b[39m, \u001b[38;5;124m'\u001b[39m\u001b[38;5;124mlatin1\u001b[39m\u001b[38;5;124m'\u001b[39m)\n",
      "File \u001b[0;32m~/.asdf/installs/python/3.12.4/lib/python3.12/site-packages/numpy/lib/_datasource.py:192\u001b[0m, in \u001b[0;36mopen\u001b[0;34m(path, mode, destpath, encoding, newline)\u001b[0m\n\u001b[1;32m    155\u001b[0m \u001b[38;5;250m\u001b[39m\u001b[38;5;124;03m\"\"\"\u001b[39;00m\n\u001b[1;32m    156\u001b[0m \u001b[38;5;124;03mOpen `path` with `mode` and return the file object.\u001b[39;00m\n\u001b[1;32m    157\u001b[0m \n\u001b[0;32m   (...)\u001b[0m\n\u001b[1;32m    188\u001b[0m \n\u001b[1;32m    189\u001b[0m \u001b[38;5;124;03m\"\"\"\u001b[39;00m\n\u001b[1;32m    191\u001b[0m ds \u001b[38;5;241m=\u001b[39m DataSource(destpath)\n\u001b[0;32m--> 192\u001b[0m \u001b[38;5;28;01mreturn\u001b[39;00m \u001b[43mds\u001b[49m\u001b[38;5;241;43m.\u001b[39;49m\u001b[43mopen\u001b[49m\u001b[43m(\u001b[49m\u001b[43mpath\u001b[49m\u001b[43m,\u001b[49m\u001b[43m \u001b[49m\u001b[43mmode\u001b[49m\u001b[43m,\u001b[49m\u001b[43m \u001b[49m\u001b[43mencoding\u001b[49m\u001b[38;5;241;43m=\u001b[39;49m\u001b[43mencoding\u001b[49m\u001b[43m,\u001b[49m\u001b[43m \u001b[49m\u001b[43mnewline\u001b[49m\u001b[38;5;241;43m=\u001b[39;49m\u001b[43mnewline\u001b[49m\u001b[43m)\u001b[49m\n",
      "File \u001b[0;32m~/.asdf/installs/python/3.12.4/lib/python3.12/site-packages/numpy/lib/_datasource.py:532\u001b[0m, in \u001b[0;36mDataSource.open\u001b[0;34m(self, path, mode, encoding, newline)\u001b[0m\n\u001b[1;32m    529\u001b[0m     \u001b[38;5;28;01mreturn\u001b[39;00m _file_openers[ext](found, mode\u001b[38;5;241m=\u001b[39mmode,\n\u001b[1;32m    530\u001b[0m                               encoding\u001b[38;5;241m=\u001b[39mencoding, newline\u001b[38;5;241m=\u001b[39mnewline)\n\u001b[1;32m    531\u001b[0m \u001b[38;5;28;01melse\u001b[39;00m:\n\u001b[0;32m--> 532\u001b[0m     \u001b[38;5;28;01mraise\u001b[39;00m \u001b[38;5;167;01mFileNotFoundError\u001b[39;00m(\u001b[38;5;124mf\u001b[39m\u001b[38;5;124m\"\u001b[39m\u001b[38;5;132;01m{\u001b[39;00mpath\u001b[38;5;132;01m}\u001b[39;00m\u001b[38;5;124m not found.\u001b[39m\u001b[38;5;124m\"\u001b[39m)\n",
      "\u001b[0;31mFileNotFoundError\u001b[0m: data/chi.csv not found."
     ]
    }
   ],
   "source": [
    "\n",
    "n_components = 3\n",
    "n_phases_guess = 4\n",
    "chi = np.loadtxt('data/chi.csv',delimiter=\",\")\n",
    "phis_initial = mce.get_uniform_random_composition(num_phases = n_phases_guess, num_comps = n_components)\n",
    "\n",
    "phis_final = mce.evolve_dynamics(chis = chi, phis_init = phis_initial)\n",
    "print(mce.count_phases(phis_final))\n",
    "print(phis_final)\n",
    "for phi in phis_final:\n",
    "\n",
    "    print(mce.calc_diffs(phis = phi, chis = chi))\n",
    "from scipy import spatial, cluster\n",
    "\n",
    "dists = spatial.distance.pdist(phis_final)\n",
    "links = cluster.hierarchy.linkage(dists, method=\"centroid\")\n",
    "clusters = cluster.hierarchy.fcluster(links,1e-2, criterion=\"distance\")\n",
    "n_clusters = len(set(clusters))\n",
    "\n",
    "phis_out = [[] for _ in range(n_clusters)]\n",
    "for i, c in enumerate(clusters):\n",
    "    phis_out[c-1].append(phis_final[i])\n",
    "for i, phi in enumerate(phis_out):\n",
    "    phis_out[i] = np.mean(phi, axis=0)\n",
    "print(phis_out)\n",
    "for phi in phis_out:\n",
    "\n",
    "    print(mce.calc_diffs(phis = phi, chis = chi))\n",
    "# phis_test = mce.evolve_dynamics(chis = chi, phis_init = phis_out, tol = 1e-8)\n",
    "# print(phis_test)"
   ]
  },
  {
   "cell_type": "code",
   "execution_count": 3,
   "metadata": {},
   "outputs": [
    {
     "ename": "TypingError",
     "evalue": "Failed in nopython mode pipeline (step: nopython frontend)\nFailed in nopython mode pipeline (step: nopython frontend)\nUnknown attribute 'shape' of type reflected list(array(float64, 1d, C))<iv=None>\n\nFile \"multicomponent_evolution.py\", line 154:\ndef evolution_rate(phis: np.ndarray, chis: np.ndarray = None) -> np.ndarray:\n    <source elided>\n    \"\"\"\n    num_phases, num_comps = phis.shape\n    ^\n\nDuring: typing of get attribute at /home/shabeeb/Projects/zwicker/multicomponent_evolution.py (154)\n\nFile \"multicomponent_evolution.py\", line 154:\ndef evolution_rate(phis: np.ndarray, chis: np.ndarray = None) -> np.ndarray:\n    <source elided>\n    \"\"\"\n    num_phases, num_comps = phis.shape\n    ^\n\nDuring: resolving callee type: type(CPUDispatcher(<function evolution_rate at 0x7f920358dda0>))\nDuring: typing of call at /home/shabeeb/Projects/zwicker/multicomponent_evolution.py (188)\n\nDuring: resolving callee type: type(CPUDispatcher(<function evolution_rate at 0x7f920358dda0>))\nDuring: typing of call at /home/shabeeb/Projects/zwicker/multicomponent_evolution.py (188)\n\n\nFile \"multicomponent_evolution.py\", line 188:\ndef iterate_inner(phis: np.ndarray, chis: np.ndarray, dt: float, steps: int) -> None:\n    <source elided>\n        # make a step\n        phis += dt * evolution_rate(phis, chis)\n        ^\n",
     "output_type": "error",
     "traceback": [
      "\u001b[0;31m---------------------------------------------------------------------------\u001b[0m",
      "\u001b[0;31mTypingError\u001b[0m                               Traceback (most recent call last)",
      "Cell \u001b[0;32mIn[3], line 1\u001b[0m\n\u001b[0;32m----> 1\u001b[0m phis_test \u001b[38;5;241m=\u001b[39m \u001b[43mmce\u001b[49m\u001b[38;5;241;43m.\u001b[39;49m\u001b[43mevolve_dynamics\u001b[49m\u001b[43m(\u001b[49m\u001b[43mchis\u001b[49m\u001b[43m \u001b[49m\u001b[38;5;241;43m=\u001b[39;49m\u001b[43m \u001b[49m\u001b[43mchi\u001b[49m\u001b[43m,\u001b[49m\u001b[43m \u001b[49m\u001b[43mphis_init\u001b[49m\u001b[43m \u001b[49m\u001b[38;5;241;43m=\u001b[39;49m\u001b[43m \u001b[49m\u001b[43mphis_out\u001b[49m\u001b[43m)\u001b[49m\n",
      "File \u001b[0;32m~/Projects/zwicker/multicomponent_evolution.py:222\u001b[0m, in \u001b[0;36mevolve_dynamics\u001b[0;34m(chis, phis_init, tol)\u001b[0m\n\u001b[1;32m    220\u001b[0m \u001b[38;5;28;01mwhile\u001b[39;00m \u001b[38;5;28;01mTrue\u001b[39;00m:\n\u001b[1;32m    221\u001b[0m     \u001b[38;5;28;01mtry\u001b[39;00m:\n\u001b[0;32m--> 222\u001b[0m         \u001b[43miterate_inner\u001b[49m\u001b[43m(\u001b[49m\u001b[43mphis\u001b[49m\u001b[43m,\u001b[49m\u001b[43m \u001b[49m\u001b[43mchis\u001b[49m\u001b[43m,\u001b[49m\u001b[43m \u001b[49m\u001b[43mdt\u001b[49m\u001b[38;5;241;43m=\u001b[39;49m\u001b[43mdt\u001b[49m\u001b[43m,\u001b[49m\u001b[43m \u001b[49m\u001b[43msteps\u001b[49m\u001b[38;5;241;43m=\u001b[39;49m\u001b[43msteps_inner\u001b[49m\u001b[43m)\u001b[49m\n\u001b[1;32m    223\u001b[0m     \u001b[38;5;28;01mexcept\u001b[39;00m \u001b[38;5;167;01mRuntimeError\u001b[39;00m \u001b[38;5;28;01mas\u001b[39;00m err:\n\u001b[1;32m    224\u001b[0m         \u001b[38;5;66;03m# problems in the simulation => reduced dt and reset phis\u001b[39;00m\n\u001b[1;32m    225\u001b[0m         dt \u001b[38;5;241m/\u001b[39m\u001b[38;5;241m=\u001b[39m \u001b[38;5;241m2\u001b[39m\n",
      "File \u001b[0;32m~/.asdf/installs/python/3.12.4/lib/python3.12/site-packages/numba/core/dispatcher.py:423\u001b[0m, in \u001b[0;36m_DispatcherBase._compile_for_args\u001b[0;34m(self, *args, **kws)\u001b[0m\n\u001b[1;32m    419\u001b[0m         msg \u001b[38;5;241m=\u001b[39m (\u001b[38;5;124mf\u001b[39m\u001b[38;5;124m\"\u001b[39m\u001b[38;5;132;01m{\u001b[39;00m\u001b[38;5;28mstr\u001b[39m(e)\u001b[38;5;241m.\u001b[39mrstrip()\u001b[38;5;132;01m}\u001b[39;00m\u001b[38;5;124m \u001b[39m\u001b[38;5;130;01m\\n\u001b[39;00m\u001b[38;5;130;01m\\n\u001b[39;00m\u001b[38;5;124mThis error may have been caused \u001b[39m\u001b[38;5;124m\"\u001b[39m\n\u001b[1;32m    420\u001b[0m                \u001b[38;5;124mf\u001b[39m\u001b[38;5;124m\"\u001b[39m\u001b[38;5;124mby the following argument(s):\u001b[39m\u001b[38;5;130;01m\\n\u001b[39;00m\u001b[38;5;132;01m{\u001b[39;00margs_str\u001b[38;5;132;01m}\u001b[39;00m\u001b[38;5;130;01m\\n\u001b[39;00m\u001b[38;5;124m\"\u001b[39m)\n\u001b[1;32m    421\u001b[0m         e\u001b[38;5;241m.\u001b[39mpatch_message(msg)\n\u001b[0;32m--> 423\u001b[0m     \u001b[43merror_rewrite\u001b[49m\u001b[43m(\u001b[49m\u001b[43me\u001b[49m\u001b[43m,\u001b[49m\u001b[43m \u001b[49m\u001b[38;5;124;43m'\u001b[39;49m\u001b[38;5;124;43mtyping\u001b[39;49m\u001b[38;5;124;43m'\u001b[39;49m\u001b[43m)\u001b[49m\n\u001b[1;32m    424\u001b[0m \u001b[38;5;28;01mexcept\u001b[39;00m errors\u001b[38;5;241m.\u001b[39mUnsupportedError \u001b[38;5;28;01mas\u001b[39;00m e:\n\u001b[1;32m    425\u001b[0m     \u001b[38;5;66;03m# Something unsupported is present in the user code, add help info\u001b[39;00m\n\u001b[1;32m    426\u001b[0m     error_rewrite(e, \u001b[38;5;124m'\u001b[39m\u001b[38;5;124munsupported_error\u001b[39m\u001b[38;5;124m'\u001b[39m)\n",
      "File \u001b[0;32m~/.asdf/installs/python/3.12.4/lib/python3.12/site-packages/numba/core/dispatcher.py:364\u001b[0m, in \u001b[0;36m_DispatcherBase._compile_for_args.<locals>.error_rewrite\u001b[0;34m(e, issue_type)\u001b[0m\n\u001b[1;32m    362\u001b[0m     \u001b[38;5;28;01mraise\u001b[39;00m e\n\u001b[1;32m    363\u001b[0m \u001b[38;5;28;01melse\u001b[39;00m:\n\u001b[0;32m--> 364\u001b[0m     \u001b[38;5;28;01mraise\u001b[39;00m e\u001b[38;5;241m.\u001b[39mwith_traceback(\u001b[38;5;28;01mNone\u001b[39;00m)\n",
      "\u001b[0;31mTypingError\u001b[0m: Failed in nopython mode pipeline (step: nopython frontend)\nFailed in nopython mode pipeline (step: nopython frontend)\nUnknown attribute 'shape' of type reflected list(array(float64, 1d, C))<iv=None>\n\nFile \"multicomponent_evolution.py\", line 154:\ndef evolution_rate(phis: np.ndarray, chis: np.ndarray = None) -> np.ndarray:\n    <source elided>\n    \"\"\"\n    num_phases, num_comps = phis.shape\n    ^\n\nDuring: typing of get attribute at /home/shabeeb/Projects/zwicker/multicomponent_evolution.py (154)\n\nFile \"multicomponent_evolution.py\", line 154:\ndef evolution_rate(phis: np.ndarray, chis: np.ndarray = None) -> np.ndarray:\n    <source elided>\n    \"\"\"\n    num_phases, num_comps = phis.shape\n    ^\n\nDuring: resolving callee type: type(CPUDispatcher(<function evolution_rate at 0x7f920358dda0>))\nDuring: typing of call at /home/shabeeb/Projects/zwicker/multicomponent_evolution.py (188)\n\nDuring: resolving callee type: type(CPUDispatcher(<function evolution_rate at 0x7f920358dda0>))\nDuring: typing of call at /home/shabeeb/Projects/zwicker/multicomponent_evolution.py (188)\n\n\nFile \"multicomponent_evolution.py\", line 188:\ndef iterate_inner(phis: np.ndarray, chis: np.ndarray, dt: float, steps: int) -> None:\n    <source elided>\n        # make a step\n        phis += dt * evolution_rate(phis, chis)\n        ^\n"
     ]
    }
   ],
   "source": [
    "@njit\n",
    "def evolution_rate(phis: np.ndarray, chis: np.ndarray = None) -> np.ndarray:\n",
    "    \"\"\"calculates the evolution rate of a system with given interactions\n",
    "\n",
    "    Args:\n",
    "        phis: The composition of all phases\n",
    "        chis: The interaction matrix\n",
    "\n",
    "    Returns:\n",
    "        The rate of change of the composition (Eq. 4)\n",
    "    \"\"\"\n",
    "    num_phases, num_comps = phis.shape\n",
    "\n",
    "    # get chemical potential and pressure for all components and phases\n",
    "    mus = np.empty((num_phases, num_comps))\n",
    "    ps = np.empty(num_phases)\n",
    "    for n in range(num_phases):  # iterate over phases\n",
    "        mu, p = calc_diffs(phis[n], chis)\n",
    "        mus[n, :] = mu\n",
    "        ps[n] = p\n",
    "\n",
    "    # calculate rate of change of the composition in all phases\n",
    "    dc = np.zeros((num_phases, num_comps))\n",
    "    for n in range(num_phases):\n",
    "        for m in range(num_phases):\n",
    "            delta_p = ps[n] - ps[m]\n",
    "            for i in range(num_comps):\n",
    "                delta_mu = mus[m, i] - mus[n, i]\n",
    "                dc[n, i] += phis[n, i] * (phis[m, i] * delta_mu - delta_p)\n",
    "    return dc\n",
    "\n",
    "phis_test = mce.evolve_dynamics(chis = chi, phis_init = phis_out)"
   ]
  },
  {
   "cell_type": "code",
   "execution_count": 13,
   "metadata": {},
   "outputs": [
    {
     "name": "stdout",
     "output_type": "stream",
     "text": [
      "[[0.74023381 0.11519325 0.0334216 ]\n",
      " [0.02286568 0.02141713 0.86559559]\n",
      " [0.74023381 0.11519325 0.0334216 ]\n",
      " [0.11404217 0.74429302 0.03129822]]\n"
     ]
    }
   ],
   "source": [
    "print(phis_test)"
   ]
  },
  {
   "cell_type": "code",
   "execution_count": 12,
   "metadata": {},
   "outputs": [
    {
     "name": "stdout",
     "output_type": "stream",
     "text": [
      "[1 1 1 1 1 1 2 1 1 1]\n"
     ]
    }
   ],
   "source": [
    "\n",
    "dists = spatial.distance.pdist(phis_final)\n",
    "links = cluster.hierarchy.linkage(dists, method=\"centroid\")\n",
    "clusters = cluster.hierarchy.fcluster(links, CLUSTER_DISTANCE, criterion=\"distance\")\n",
    "print(clusters)"
   ]
  },
  {
   "cell_type": "code",
   "execution_count": null,
   "metadata": {},
   "outputs": [],
   "source": []
  }
 ],
 "metadata": {
  "kernelspec": {
   "display_name": "Python 3",
   "language": "python",
   "name": "python3"
  },
  "language_info": {
   "codemirror_mode": {
    "name": "ipython",
    "version": 3
   },
   "file_extension": ".py",
   "mimetype": "text/x-python",
   "name": "python",
   "nbconvert_exporter": "python",
   "pygments_lexer": "ipython3",
   "version": "3.12.4"
  }
 },
 "nbformat": 4,
 "nbformat_minor": 2
}
